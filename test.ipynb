{
 "cells": [
  {
   "cell_type": "code",
   "execution_count": 1,
   "id": "3cb65003",
   "metadata": {},
   "outputs": [
    {
     "data": {
      "text/plain": [
       "(60, 40)"
      ]
     },
     "execution_count": 1,
     "metadata": {},
     "output_type": "execute_result"
    }
   ],
   "source": [
    "import numpy as np\n",
    "data = np.loadtxt(fname=\"data/inflammation-01.csv\", delimiter=\",\")\n",
    "data.shape"
   ]
  },
  {
   "cell_type": "code",
   "execution_count": 3,
   "id": "29d573bb",
   "metadata": {},
   "outputs": [
    {
     "data": {
      "text/plain": [
       "array([3., 4.])"
      ]
     },
     "execution_count": 3,
     "metadata": {},
     "output_type": "execute_result"
    }
   ],
   "source": [
    "from inflammation.models import daily_mean\n",
    "daily_mean([[1,2],\n",
    "            [3,4],\n",
    "            [5,6]])"
   ]
  },
  {
   "cell_type": "code",
   "execution_count": 4,
   "id": "41097fd2",
   "metadata": {},
   "outputs": [
    {
     "data": {
      "text/plain": [
       "array([ 0.  ,  0.5 ,  1.5 ,  1.75,  2.5 ,  1.75,  3.75,  3.  ,  5.25,\n",
       "        6.25,  7.  ,  7.  ,  7.  ,  8.  ,  5.75,  7.75,  8.5 , 11.  ,\n",
       "        9.75, 10.25, 15.  ,  8.75,  9.75, 10.  ,  8.  , 10.25,  8.  ,\n",
       "        5.5 ,  8.  ,  6.  ,  5.  ,  4.75,  4.75,  4.  ,  3.25,  4.  ,\n",
       "        1.75,  2.25,  0.75,  0.75])"
      ]
     },
     "execution_count": 4,
     "metadata": {},
     "output_type": "execute_result"
    }
   ],
   "source": [
    "\n",
    "daily_mean(data[0:4])"
   ]
  },
  {
   "cell_type": "code",
   "execution_count": 5,
   "id": "776ae837",
   "metadata": {},
   "outputs": [],
   "source": [
    "import numpy.testing as npt\n",
    "test_input = np.array([[1,2],\n",
    "                       [3,4],\n",
    "                       [5,6]])"
   ]
  },
  {
   "cell_type": "code",
   "execution_count": 6,
   "id": "18f6ee93",
   "metadata": {},
   "outputs": [],
   "source": [
    "test_result = np.array([3,4])"
   ]
  },
  {
   "cell_type": "code",
   "execution_count": 7,
   "id": "10867065",
   "metadata": {},
   "outputs": [],
   "source": [
    "npt.assert_array_equal(daily_mean(test_input), test_result)\n"
   ]
  },
  {
   "cell_type": "code",
   "execution_count": 9,
   "id": "b916f297",
   "metadata": {},
   "outputs": [],
   "source": [
    "test_input = np.array([[2,0],\n",
    "                       [4,0]])"
   ]
  },
  {
   "cell_type": "code",
   "execution_count": 10,
   "id": "e3080bd6",
   "metadata": {},
   "outputs": [],
   "source": [
    "test_result = np.array([2,0])"
   ]
  },
  {
   "cell_type": "code",
   "execution_count": null,
   "id": "cd2889de",
   "metadata": {},
   "outputs": [],
   "source": [
    "\n",
    "npt.assert_array_equal(daily_mean(test_input), test_result)"
   ]
  },
  {
   "cell_type": "code",
   "execution_count": null,
   "id": "64df55b6",
   "metadata": {},
   "outputs": [],
   "source": []
  }
 ],
 "metadata": {
  "kernelspec": {
   "display_name": "Python 3 (ipykernel)",
   "language": "python",
   "name": "python3"
  },
  "language_info": {
   "codemirror_mode": {
    "name": "ipython",
    "version": 3
   },
   "file_extension": ".py",
   "mimetype": "text/x-python",
   "name": "python",
   "nbconvert_exporter": "python",
   "pygments_lexer": "ipython3",
   "version": "3.9.12"
  }
 },
 "nbformat": 4,
 "nbformat_minor": 5
}
